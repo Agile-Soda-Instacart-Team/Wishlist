{
  "cells": [
    {
      "cell_type": "markdown",
      "metadata": {
        "id": "P0yEHUGJ1AM4"
      },
      "source": [
        "## XGBoost Model"
      ]
    },
    {
      "cell_type": "code",
      "source": [
        "from google.colab import drive\n",
        "drive.mount('/content/drive')"
      ],
      "metadata": {
        "colab": {
          "base_uri": "https://localhost:8080/"
        },
        "id": "ELVrAz0-H4zm",
        "outputId": "b2705a5b-42d4-4a89-81e6-84d6034e4446"
      },
      "execution_count": null,
      "outputs": [
        {
          "output_type": "stream",
          "name": "stdout",
          "text": [
            "Mounted at /content/drive\n"
          ]
        }
      ]
    },
    {
      "cell_type": "code",
      "execution_count": null,
      "metadata": {
        "id": "mOKCKLDq1AM9"
      },
      "outputs": [],
      "source": [
        "import numpy as np\n",
        "import pandas as pd\n",
        "import matplotlib.pyplot as plt\n",
        "import seaborn as sns\n",
        "import gc\n",
        "pd.options.mode.chained_assignment = None\n",
        "\n",
        "import xgboost as xgb\n",
        "root = '/content/drive/MyDrive/instacart/instacart-market-basket-analysis/'\n",
        "\n",
        "from sklearn.model_selection import train_test_split, GridSearchCV, cross_val_score\n",
        "from sklearn.metrics import confusion_matrix, accuracy_score, classification_report\n",
        "from sklearn.metrics import roc_auc_score, roc_curve, precision_score, recall_score, f1_score"
      ]
    },
    {
      "cell_type": "code",
      "execution_count": null,
      "metadata": {
        "colab": {
          "base_uri": "https://localhost:8080/",
          "height": 299
        },
        "id": "WlP9Lc4D1AM_",
        "outputId": "7d37c150-c094-4431-e661-186dddeaade9"
      },
      "outputs": [
        {
          "output_type": "execute_result",
          "data": {
            "text/plain": [
              "   user_id  product_id  user_product_reorder_percentage  \\\n",
              "0      1.0         196                             10.0   \n",
              "1      1.0       10258                              9.0   \n",
              "2      1.0       10326                              1.0   \n",
              "3      1.0       12427                             10.0   \n",
              "4      1.0       13032                              3.0   \n",
              "\n",
              "   total_product_orders_by_user  total_product_reorders_by_user  \\\n",
              "0                           9.0                        0.899902   \n",
              "1                           8.0                        0.888672   \n",
              "2                           0.0                        0.000000   \n",
              "3                           9.0                        0.899902   \n",
              "4                           2.0                        0.666504   \n",
              "\n",
              "   avg_add_to_cart_by_user  avg_days_since_last_bought  last_ordered_in  \\\n",
              "0                 1.400391                   19.562500             10.0   \n",
              "1                 3.333984                   19.562500             10.0   \n",
              "2                 5.000000                   28.000000              5.0   \n",
              "3                 3.300781                   19.562500             10.0   \n",
              "4                 6.332031                   21.671875             10.0   \n",
              "\n",
              "   order_-3  order_-2  ...  total_reorders_by_user  average_order_size  \\\n",
              "0       1.0       1.0  ...                0.694824            0.706055   \n",
              "1       1.0       1.0  ...                0.694824            0.706055   \n",
              "2       NaN       NaN  ...                0.694824            0.706055   \n",
              "3       1.0       1.0  ...                0.694824            0.706055   \n",
              "4       1.0       NaN  ...                0.694824            0.706055   \n",
              "\n",
              "   reorder_in_order  prod_order_3  prod_order_2  prod_order_1  re_in_order_3  \\\n",
              "0          5.898438      0.666504           1.0      0.666504              6   \n",
              "1          5.898438      0.666504           1.0      0.666504              6   \n",
              "2          5.898438      0.666504           1.0      0.666504              6   \n",
              "3          5.898438      0.666504           1.0      0.666504              6   \n",
              "4          5.898438      0.666504           1.0      0.666504              6   \n",
              "\n",
              "   re_in_order_2  re_in_order_1  order_diff  \n",
              "0              6              9         1.0  \n",
              "1              6              9         1.0  \n",
              "2              6              9         6.0  \n",
              "3              6              9         1.0  \n",
              "4              6              9         1.0  \n",
              "\n",
              "[5 rows x 70 columns]"
            ],
            "text/html": [
              "\n",
              "  <div id=\"df-ede740c4-80dc-4578-b042-6002aed1bd4f\">\n",
              "    <div class=\"colab-df-container\">\n",
              "      <div>\n",
              "<style scoped>\n",
              "    .dataframe tbody tr th:only-of-type {\n",
              "        vertical-align: middle;\n",
              "    }\n",
              "\n",
              "    .dataframe tbody tr th {\n",
              "        vertical-align: top;\n",
              "    }\n",
              "\n",
              "    .dataframe thead th {\n",
              "        text-align: right;\n",
              "    }\n",
              "</style>\n",
              "<table border=\"1\" class=\"dataframe\">\n",
              "  <thead>\n",
              "    <tr style=\"text-align: right;\">\n",
              "      <th></th>\n",
              "      <th>user_id</th>\n",
              "      <th>product_id</th>\n",
              "      <th>user_product_reorder_percentage</th>\n",
              "      <th>total_product_orders_by_user</th>\n",
              "      <th>total_product_reorders_by_user</th>\n",
              "      <th>avg_add_to_cart_by_user</th>\n",
              "      <th>avg_days_since_last_bought</th>\n",
              "      <th>last_ordered_in</th>\n",
              "      <th>order_-3</th>\n",
              "      <th>order_-2</th>\n",
              "      <th>...</th>\n",
              "      <th>total_reorders_by_user</th>\n",
              "      <th>average_order_size</th>\n",
              "      <th>reorder_in_order</th>\n",
              "      <th>prod_order_3</th>\n",
              "      <th>prod_order_2</th>\n",
              "      <th>prod_order_1</th>\n",
              "      <th>re_in_order_3</th>\n",
              "      <th>re_in_order_2</th>\n",
              "      <th>re_in_order_1</th>\n",
              "      <th>order_diff</th>\n",
              "    </tr>\n",
              "  </thead>\n",
              "  <tbody>\n",
              "    <tr>\n",
              "      <th>0</th>\n",
              "      <td>1.0</td>\n",
              "      <td>196</td>\n",
              "      <td>10.0</td>\n",
              "      <td>9.0</td>\n",
              "      <td>0.899902</td>\n",
              "      <td>1.400391</td>\n",
              "      <td>19.562500</td>\n",
              "      <td>10.0</td>\n",
              "      <td>1.0</td>\n",
              "      <td>1.0</td>\n",
              "      <td>...</td>\n",
              "      <td>0.694824</td>\n",
              "      <td>0.706055</td>\n",
              "      <td>5.898438</td>\n",
              "      <td>0.666504</td>\n",
              "      <td>1.0</td>\n",
              "      <td>0.666504</td>\n",
              "      <td>6</td>\n",
              "      <td>6</td>\n",
              "      <td>9</td>\n",
              "      <td>1.0</td>\n",
              "    </tr>\n",
              "    <tr>\n",
              "      <th>1</th>\n",
              "      <td>1.0</td>\n",
              "      <td>10258</td>\n",
              "      <td>9.0</td>\n",
              "      <td>8.0</td>\n",
              "      <td>0.888672</td>\n",
              "      <td>3.333984</td>\n",
              "      <td>19.562500</td>\n",
              "      <td>10.0</td>\n",
              "      <td>1.0</td>\n",
              "      <td>1.0</td>\n",
              "      <td>...</td>\n",
              "      <td>0.694824</td>\n",
              "      <td>0.706055</td>\n",
              "      <td>5.898438</td>\n",
              "      <td>0.666504</td>\n",
              "      <td>1.0</td>\n",
              "      <td>0.666504</td>\n",
              "      <td>6</td>\n",
              "      <td>6</td>\n",
              "      <td>9</td>\n",
              "      <td>1.0</td>\n",
              "    </tr>\n",
              "    <tr>\n",
              "      <th>2</th>\n",
              "      <td>1.0</td>\n",
              "      <td>10326</td>\n",
              "      <td>1.0</td>\n",
              "      <td>0.0</td>\n",
              "      <td>0.000000</td>\n",
              "      <td>5.000000</td>\n",
              "      <td>28.000000</td>\n",
              "      <td>5.0</td>\n",
              "      <td>NaN</td>\n",
              "      <td>NaN</td>\n",
              "      <td>...</td>\n",
              "      <td>0.694824</td>\n",
              "      <td>0.706055</td>\n",
              "      <td>5.898438</td>\n",
              "      <td>0.666504</td>\n",
              "      <td>1.0</td>\n",
              "      <td>0.666504</td>\n",
              "      <td>6</td>\n",
              "      <td>6</td>\n",
              "      <td>9</td>\n",
              "      <td>6.0</td>\n",
              "    </tr>\n",
              "    <tr>\n",
              "      <th>3</th>\n",
              "      <td>1.0</td>\n",
              "      <td>12427</td>\n",
              "      <td>10.0</td>\n",
              "      <td>9.0</td>\n",
              "      <td>0.899902</td>\n",
              "      <td>3.300781</td>\n",
              "      <td>19.562500</td>\n",
              "      <td>10.0</td>\n",
              "      <td>1.0</td>\n",
              "      <td>1.0</td>\n",
              "      <td>...</td>\n",
              "      <td>0.694824</td>\n",
              "      <td>0.706055</td>\n",
              "      <td>5.898438</td>\n",
              "      <td>0.666504</td>\n",
              "      <td>1.0</td>\n",
              "      <td>0.666504</td>\n",
              "      <td>6</td>\n",
              "      <td>6</td>\n",
              "      <td>9</td>\n",
              "      <td>1.0</td>\n",
              "    </tr>\n",
              "    <tr>\n",
              "      <th>4</th>\n",
              "      <td>1.0</td>\n",
              "      <td>13032</td>\n",
              "      <td>3.0</td>\n",
              "      <td>2.0</td>\n",
              "      <td>0.666504</td>\n",
              "      <td>6.332031</td>\n",
              "      <td>21.671875</td>\n",
              "      <td>10.0</td>\n",
              "      <td>1.0</td>\n",
              "      <td>NaN</td>\n",
              "      <td>...</td>\n",
              "      <td>0.694824</td>\n",
              "      <td>0.706055</td>\n",
              "      <td>5.898438</td>\n",
              "      <td>0.666504</td>\n",
              "      <td>1.0</td>\n",
              "      <td>0.666504</td>\n",
              "      <td>6</td>\n",
              "      <td>6</td>\n",
              "      <td>9</td>\n",
              "      <td>1.0</td>\n",
              "    </tr>\n",
              "  </tbody>\n",
              "</table>\n",
              "<p>5 rows × 70 columns</p>\n",
              "</div>\n",
              "      <button class=\"colab-df-convert\" onclick=\"convertToInteractive('df-ede740c4-80dc-4578-b042-6002aed1bd4f')\"\n",
              "              title=\"Convert this dataframe to an interactive table.\"\n",
              "              style=\"display:none;\">\n",
              "        \n",
              "  <svg xmlns=\"http://www.w3.org/2000/svg\" height=\"24px\"viewBox=\"0 0 24 24\"\n",
              "       width=\"24px\">\n",
              "    <path d=\"M0 0h24v24H0V0z\" fill=\"none\"/>\n",
              "    <path d=\"M18.56 5.44l.94 2.06.94-2.06 2.06-.94-2.06-.94-.94-2.06-.94 2.06-2.06.94zm-11 1L8.5 8.5l.94-2.06 2.06-.94-2.06-.94L8.5 2.5l-.94 2.06-2.06.94zm10 10l.94 2.06.94-2.06 2.06-.94-2.06-.94-.94-2.06-.94 2.06-2.06.94z\"/><path d=\"M17.41 7.96l-1.37-1.37c-.4-.4-.92-.59-1.43-.59-.52 0-1.04.2-1.43.59L10.3 9.45l-7.72 7.72c-.78.78-.78 2.05 0 2.83L4 21.41c.39.39.9.59 1.41.59.51 0 1.02-.2 1.41-.59l7.78-7.78 2.81-2.81c.8-.78.8-2.07 0-2.86zM5.41 20L4 18.59l7.72-7.72 1.47 1.35L5.41 20z\"/>\n",
              "  </svg>\n",
              "      </button>\n",
              "      \n",
              "  <style>\n",
              "    .colab-df-container {\n",
              "      display:flex;\n",
              "      flex-wrap:wrap;\n",
              "      gap: 12px;\n",
              "    }\n",
              "\n",
              "    .colab-df-convert {\n",
              "      background-color: #E8F0FE;\n",
              "      border: none;\n",
              "      border-radius: 50%;\n",
              "      cursor: pointer;\n",
              "      display: none;\n",
              "      fill: #1967D2;\n",
              "      height: 32px;\n",
              "      padding: 0 0 0 0;\n",
              "      width: 32px;\n",
              "    }\n",
              "\n",
              "    .colab-df-convert:hover {\n",
              "      background-color: #E2EBFA;\n",
              "      box-shadow: 0px 1px 2px rgba(60, 64, 67, 0.3), 0px 1px 3px 1px rgba(60, 64, 67, 0.15);\n",
              "      fill: #174EA6;\n",
              "    }\n",
              "\n",
              "    [theme=dark] .colab-df-convert {\n",
              "      background-color: #3B4455;\n",
              "      fill: #D2E3FC;\n",
              "    }\n",
              "\n",
              "    [theme=dark] .colab-df-convert:hover {\n",
              "      background-color: #434B5C;\n",
              "      box-shadow: 0px 1px 3px 1px rgba(0, 0, 0, 0.15);\n",
              "      filter: drop-shadow(0px 1px 2px rgba(0, 0, 0, 0.3));\n",
              "      fill: #FFFFFF;\n",
              "    }\n",
              "  </style>\n",
              "\n",
              "      <script>\n",
              "        const buttonEl =\n",
              "          document.querySelector('#df-ede740c4-80dc-4578-b042-6002aed1bd4f button.colab-df-convert');\n",
              "        buttonEl.style.display =\n",
              "          google.colab.kernel.accessAllowed ? 'block' : 'none';\n",
              "\n",
              "        async function convertToInteractive(key) {\n",
              "          const element = document.querySelector('#df-ede740c4-80dc-4578-b042-6002aed1bd4f');\n",
              "          const dataTable =\n",
              "            await google.colab.kernel.invokeFunction('convertToInteractive',\n",
              "                                                     [key], {});\n",
              "          if (!dataTable) return;\n",
              "\n",
              "          const docLinkHtml = 'Like what you see? Visit the ' +\n",
              "            '<a target=\"_blank\" href=https://colab.research.google.com/notebooks/data_table.ipynb>data table notebook</a>'\n",
              "            + ' to learn more about interactive tables.';\n",
              "          element.innerHTML = '';\n",
              "          dataTable['output_type'] = 'display_data';\n",
              "          await google.colab.output.renderOutput(dataTable, element);\n",
              "          const docLink = document.createElement('div');\n",
              "          docLink.innerHTML = docLinkHtml;\n",
              "          element.appendChild(docLink);\n",
              "        }\n",
              "      </script>\n",
              "    </div>\n",
              "  </div>\n",
              "  "
            ]
          },
          "metadata": {},
          "execution_count": 4
        }
      ],
      "source": [
        "df = pd.read_pickle(root + 'Finaldata.pkl')\n",
        "df.head()"
      ]
    },
    {
      "cell_type": "code",
      "source": [
        "df.columns"
      ],
      "metadata": {
        "colab": {
          "base_uri": "https://localhost:8080/"
        },
        "id": "jQ7KwBDDqmyy",
        "outputId": "abd152ff-338f-47b7-b7b7-02c3785ae299"
      },
      "execution_count": null,
      "outputs": [
        {
          "output_type": "execute_result",
          "data": {
            "text/plain": [
              "Index(['user_id', 'product_id', 'user_product_reorder_percentage',\n",
              "       'total_product_orders_by_user', 'total_product_reorders_by_user',\n",
              "       'avg_add_to_cart_by_user', 'avg_days_since_last_bought',\n",
              "       'last_ordered_in', 'order_-3', 'order_-2', 'order_-1', 'order_number',\n",
              "       'order_dow', 'order_hour_of_day', 'days_since_prior_order', 'reordered',\n",
              "       'mean_add_to_cart_order', 'reorder_rate', 'total_orders',\n",
              "       'total_reorders', 'unique_users', 'order_1st_total_cnt',\n",
              "       'order_2nd_total_cnt', 'is_organic', 'order_2nd_rate',\n",
              "       'aisle_mean_add_to_cart_order', 'aisle_std_add_to_cart_order',\n",
              "       'aisle_reorder_percentage', 'aisle_total_orders',\n",
              "       'aisle_total_reorders', 'aisle_unique_users', 'aisle_0', 'aisle_1',\n",
              "       'aisle_2', 'aisle_3', 'aisle_4', 'aisle_5', 'aisle_6', 'aisle_7',\n",
              "       'department_mean_add_to_cart_order', 'department_std_add_to_cart_order',\n",
              "       'department_reorder_percentage', 'department_total_orders',\n",
              "       'department_total_reorders', 'department_unique_users', 'department_0',\n",
              "       'department_1', 'department_2', 'department_3', 'department_4',\n",
              "       'avg_dow', 'std_dow', 'avg_doh', 'std_doh', 'avg_since_order',\n",
              "       'std_since_order', 'total_orders_by_user',\n",
              "       'total_unique_product_by_user', 'total_products_by_user',\n",
              "       'reorder_propotion_by_user', 'total_reorders_by_user',\n",
              "       'average_order_size', 'reorder_in_order', 'prod_order_3',\n",
              "       'prod_order_2', 'prod_order_1', 're_in_order_3', 're_in_order_2',\n",
              "       're_in_order_1', 'order_diff'],\n",
              "      dtype='object')"
            ]
          },
          "metadata": {},
          "execution_count": 5
        }
      ]
    },
    {
      "cell_type": "code",
      "execution_count": null,
      "metadata": {
        "id": "IH0fHSYL1ANC"
      },
      "outputs": [],
      "source": [
        "df['order_diff'] = df.order_number - df.last_ordered_in\n",
        "df.drop(['user_id', 'product_id'], axis = 1, inplace = True)"
      ]
    },
    {
      "cell_type": "code",
      "execution_count": null,
      "metadata": {
        "colab": {
          "base_uri": "https://localhost:8080/",
          "height": 299
        },
        "id": "d577tetQ1AND",
        "outputId": "ed650c3b-66dc-4741-9a0b-4250bb1e9451"
      },
      "outputs": [
        {
          "output_type": "execute_result",
          "data": {
            "text/plain": [
              "   user_product_reorder_percentage  total_product_orders_by_user  \\\n",
              "0                             10.0                           9.0   \n",
              "1                              9.0                           8.0   \n",
              "2                              1.0                           0.0   \n",
              "3                             10.0                           9.0   \n",
              "4                              3.0                           2.0   \n",
              "\n",
              "   total_product_reorders_by_user  avg_add_to_cart_by_user  \\\n",
              "0                        0.899902                 1.400391   \n",
              "1                        0.888672                 3.333984   \n",
              "2                        0.000000                 5.000000   \n",
              "3                        0.899902                 3.300781   \n",
              "4                        0.666504                 6.332031   \n",
              "\n",
              "   avg_days_since_last_bought  last_ordered_in  order_-3  order_-2  order_-1  \\\n",
              "0                   19.562500             10.0       1.0       1.0       1.0   \n",
              "1                   19.562500             10.0       1.0       1.0       1.0   \n",
              "2                   28.000000              5.0       NaN       NaN       NaN   \n",
              "3                   19.562500             10.0       1.0       1.0       1.0   \n",
              "4                   21.671875             10.0       1.0       NaN       NaN   \n",
              "\n",
              "   order_number  ...  total_reorders_by_user  average_order_size  \\\n",
              "0          11.0  ...                0.694824            0.706055   \n",
              "1          11.0  ...                0.694824            0.706055   \n",
              "2          11.0  ...                0.694824            0.706055   \n",
              "3          11.0  ...                0.694824            0.706055   \n",
              "4          11.0  ...                0.694824            0.706055   \n",
              "\n",
              "   reorder_in_order  prod_order_3  prod_order_2  prod_order_1  re_in_order_3  \\\n",
              "0          5.898438      0.666504           1.0      0.666504              6   \n",
              "1          5.898438      0.666504           1.0      0.666504              6   \n",
              "2          5.898438      0.666504           1.0      0.666504              6   \n",
              "3          5.898438      0.666504           1.0      0.666504              6   \n",
              "4          5.898438      0.666504           1.0      0.666504              6   \n",
              "\n",
              "   re_in_order_2  re_in_order_1  order_diff  \n",
              "0              6              9         1.0  \n",
              "1              6              9         1.0  \n",
              "2              6              9         6.0  \n",
              "3              6              9         1.0  \n",
              "4              6              9         1.0  \n",
              "\n",
              "[5 rows x 68 columns]"
            ],
            "text/html": [
              "\n",
              "  <div id=\"df-950f0675-ae60-43db-b3c3-f4d0d5b2ec65\">\n",
              "    <div class=\"colab-df-container\">\n",
              "      <div>\n",
              "<style scoped>\n",
              "    .dataframe tbody tr th:only-of-type {\n",
              "        vertical-align: middle;\n",
              "    }\n",
              "\n",
              "    .dataframe tbody tr th {\n",
              "        vertical-align: top;\n",
              "    }\n",
              "\n",
              "    .dataframe thead th {\n",
              "        text-align: right;\n",
              "    }\n",
              "</style>\n",
              "<table border=\"1\" class=\"dataframe\">\n",
              "  <thead>\n",
              "    <tr style=\"text-align: right;\">\n",
              "      <th></th>\n",
              "      <th>user_product_reorder_percentage</th>\n",
              "      <th>total_product_orders_by_user</th>\n",
              "      <th>total_product_reorders_by_user</th>\n",
              "      <th>avg_add_to_cart_by_user</th>\n",
              "      <th>avg_days_since_last_bought</th>\n",
              "      <th>last_ordered_in</th>\n",
              "      <th>order_-3</th>\n",
              "      <th>order_-2</th>\n",
              "      <th>order_-1</th>\n",
              "      <th>order_number</th>\n",
              "      <th>...</th>\n",
              "      <th>total_reorders_by_user</th>\n",
              "      <th>average_order_size</th>\n",
              "      <th>reorder_in_order</th>\n",
              "      <th>prod_order_3</th>\n",
              "      <th>prod_order_2</th>\n",
              "      <th>prod_order_1</th>\n",
              "      <th>re_in_order_3</th>\n",
              "      <th>re_in_order_2</th>\n",
              "      <th>re_in_order_1</th>\n",
              "      <th>order_diff</th>\n",
              "    </tr>\n",
              "  </thead>\n",
              "  <tbody>\n",
              "    <tr>\n",
              "      <th>0</th>\n",
              "      <td>10.0</td>\n",
              "      <td>9.0</td>\n",
              "      <td>0.899902</td>\n",
              "      <td>1.400391</td>\n",
              "      <td>19.562500</td>\n",
              "      <td>10.0</td>\n",
              "      <td>1.0</td>\n",
              "      <td>1.0</td>\n",
              "      <td>1.0</td>\n",
              "      <td>11.0</td>\n",
              "      <td>...</td>\n",
              "      <td>0.694824</td>\n",
              "      <td>0.706055</td>\n",
              "      <td>5.898438</td>\n",
              "      <td>0.666504</td>\n",
              "      <td>1.0</td>\n",
              "      <td>0.666504</td>\n",
              "      <td>6</td>\n",
              "      <td>6</td>\n",
              "      <td>9</td>\n",
              "      <td>1.0</td>\n",
              "    </tr>\n",
              "    <tr>\n",
              "      <th>1</th>\n",
              "      <td>9.0</td>\n",
              "      <td>8.0</td>\n",
              "      <td>0.888672</td>\n",
              "      <td>3.333984</td>\n",
              "      <td>19.562500</td>\n",
              "      <td>10.0</td>\n",
              "      <td>1.0</td>\n",
              "      <td>1.0</td>\n",
              "      <td>1.0</td>\n",
              "      <td>11.0</td>\n",
              "      <td>...</td>\n",
              "      <td>0.694824</td>\n",
              "      <td>0.706055</td>\n",
              "      <td>5.898438</td>\n",
              "      <td>0.666504</td>\n",
              "      <td>1.0</td>\n",
              "      <td>0.666504</td>\n",
              "      <td>6</td>\n",
              "      <td>6</td>\n",
              "      <td>9</td>\n",
              "      <td>1.0</td>\n",
              "    </tr>\n",
              "    <tr>\n",
              "      <th>2</th>\n",
              "      <td>1.0</td>\n",
              "      <td>0.0</td>\n",
              "      <td>0.000000</td>\n",
              "      <td>5.000000</td>\n",
              "      <td>28.000000</td>\n",
              "      <td>5.0</td>\n",
              "      <td>NaN</td>\n",
              "      <td>NaN</td>\n",
              "      <td>NaN</td>\n",
              "      <td>11.0</td>\n",
              "      <td>...</td>\n",
              "      <td>0.694824</td>\n",
              "      <td>0.706055</td>\n",
              "      <td>5.898438</td>\n",
              "      <td>0.666504</td>\n",
              "      <td>1.0</td>\n",
              "      <td>0.666504</td>\n",
              "      <td>6</td>\n",
              "      <td>6</td>\n",
              "      <td>9</td>\n",
              "      <td>6.0</td>\n",
              "    </tr>\n",
              "    <tr>\n",
              "      <th>3</th>\n",
              "      <td>10.0</td>\n",
              "      <td>9.0</td>\n",
              "      <td>0.899902</td>\n",
              "      <td>3.300781</td>\n",
              "      <td>19.562500</td>\n",
              "      <td>10.0</td>\n",
              "      <td>1.0</td>\n",
              "      <td>1.0</td>\n",
              "      <td>1.0</td>\n",
              "      <td>11.0</td>\n",
              "      <td>...</td>\n",
              "      <td>0.694824</td>\n",
              "      <td>0.706055</td>\n",
              "      <td>5.898438</td>\n",
              "      <td>0.666504</td>\n",
              "      <td>1.0</td>\n",
              "      <td>0.666504</td>\n",
              "      <td>6</td>\n",
              "      <td>6</td>\n",
              "      <td>9</td>\n",
              "      <td>1.0</td>\n",
              "    </tr>\n",
              "    <tr>\n",
              "      <th>4</th>\n",
              "      <td>3.0</td>\n",
              "      <td>2.0</td>\n",
              "      <td>0.666504</td>\n",
              "      <td>6.332031</td>\n",
              "      <td>21.671875</td>\n",
              "      <td>10.0</td>\n",
              "      <td>1.0</td>\n",
              "      <td>NaN</td>\n",
              "      <td>NaN</td>\n",
              "      <td>11.0</td>\n",
              "      <td>...</td>\n",
              "      <td>0.694824</td>\n",
              "      <td>0.706055</td>\n",
              "      <td>5.898438</td>\n",
              "      <td>0.666504</td>\n",
              "      <td>1.0</td>\n",
              "      <td>0.666504</td>\n",
              "      <td>6</td>\n",
              "      <td>6</td>\n",
              "      <td>9</td>\n",
              "      <td>1.0</td>\n",
              "    </tr>\n",
              "  </tbody>\n",
              "</table>\n",
              "<p>5 rows × 68 columns</p>\n",
              "</div>\n",
              "      <button class=\"colab-df-convert\" onclick=\"convertToInteractive('df-950f0675-ae60-43db-b3c3-f4d0d5b2ec65')\"\n",
              "              title=\"Convert this dataframe to an interactive table.\"\n",
              "              style=\"display:none;\">\n",
              "        \n",
              "  <svg xmlns=\"http://www.w3.org/2000/svg\" height=\"24px\"viewBox=\"0 0 24 24\"\n",
              "       width=\"24px\">\n",
              "    <path d=\"M0 0h24v24H0V0z\" fill=\"none\"/>\n",
              "    <path d=\"M18.56 5.44l.94 2.06.94-2.06 2.06-.94-2.06-.94-.94-2.06-.94 2.06-2.06.94zm-11 1L8.5 8.5l.94-2.06 2.06-.94-2.06-.94L8.5 2.5l-.94 2.06-2.06.94zm10 10l.94 2.06.94-2.06 2.06-.94-2.06-.94-.94-2.06-.94 2.06-2.06.94z\"/><path d=\"M17.41 7.96l-1.37-1.37c-.4-.4-.92-.59-1.43-.59-.52 0-1.04.2-1.43.59L10.3 9.45l-7.72 7.72c-.78.78-.78 2.05 0 2.83L4 21.41c.39.39.9.59 1.41.59.51 0 1.02-.2 1.41-.59l7.78-7.78 2.81-2.81c.8-.78.8-2.07 0-2.86zM5.41 20L4 18.59l7.72-7.72 1.47 1.35L5.41 20z\"/>\n",
              "  </svg>\n",
              "      </button>\n",
              "      \n",
              "  <style>\n",
              "    .colab-df-container {\n",
              "      display:flex;\n",
              "      flex-wrap:wrap;\n",
              "      gap: 12px;\n",
              "    }\n",
              "\n",
              "    .colab-df-convert {\n",
              "      background-color: #E8F0FE;\n",
              "      border: none;\n",
              "      border-radius: 50%;\n",
              "      cursor: pointer;\n",
              "      display: none;\n",
              "      fill: #1967D2;\n",
              "      height: 32px;\n",
              "      padding: 0 0 0 0;\n",
              "      width: 32px;\n",
              "    }\n",
              "\n",
              "    .colab-df-convert:hover {\n",
              "      background-color: #E2EBFA;\n",
              "      box-shadow: 0px 1px 2px rgba(60, 64, 67, 0.3), 0px 1px 3px 1px rgba(60, 64, 67, 0.15);\n",
              "      fill: #174EA6;\n",
              "    }\n",
              "\n",
              "    [theme=dark] .colab-df-convert {\n",
              "      background-color: #3B4455;\n",
              "      fill: #D2E3FC;\n",
              "    }\n",
              "\n",
              "    [theme=dark] .colab-df-convert:hover {\n",
              "      background-color: #434B5C;\n",
              "      box-shadow: 0px 1px 3px 1px rgba(0, 0, 0, 0.15);\n",
              "      filter: drop-shadow(0px 1px 2px rgba(0, 0, 0, 0.3));\n",
              "      fill: #FFFFFF;\n",
              "    }\n",
              "  </style>\n",
              "\n",
              "      <script>\n",
              "        const buttonEl =\n",
              "          document.querySelector('#df-950f0675-ae60-43db-b3c3-f4d0d5b2ec65 button.colab-df-convert');\n",
              "        buttonEl.style.display =\n",
              "          google.colab.kernel.accessAllowed ? 'block' : 'none';\n",
              "\n",
              "        async function convertToInteractive(key) {\n",
              "          const element = document.querySelector('#df-950f0675-ae60-43db-b3c3-f4d0d5b2ec65');\n",
              "          const dataTable =\n",
              "            await google.colab.kernel.invokeFunction('convertToInteractive',\n",
              "                                                     [key], {});\n",
              "          if (!dataTable) return;\n",
              "\n",
              "          const docLinkHtml = 'Like what you see? Visit the ' +\n",
              "            '<a target=\"_blank\" href=https://colab.research.google.com/notebooks/data_table.ipynb>data table notebook</a>'\n",
              "            + ' to learn more about interactive tables.';\n",
              "          element.innerHTML = '';\n",
              "          dataTable['output_type'] = 'display_data';\n",
              "          await google.colab.output.renderOutput(dataTable, element);\n",
              "          const docLink = document.createElement('div');\n",
              "          docLink.innerHTML = docLinkHtml;\n",
              "          element.appendChild(docLink);\n",
              "        }\n",
              "      </script>\n",
              "    </div>\n",
              "  </div>\n",
              "  "
            ]
          },
          "metadata": {},
          "execution_count": 9
        }
      ],
      "source": [
        "df.head()"
      ]
    },
    {
      "cell_type": "code",
      "execution_count": null,
      "metadata": {
        "colab": {
          "base_uri": "https://localhost:8080/"
        },
        "id": "uHYAoQjl1ANE",
        "outputId": "f48783bf-7ab5-422c-c660-da9b540c9494"
      },
      "outputs": [
        {
          "output_type": "execute_result",
          "data": {
            "text/plain": [
              "(8474661, 68)"
            ]
          },
          "metadata": {},
          "execution_count": 10
        }
      ],
      "source": [
        "df.shape"
      ]
    },
    {
      "cell_type": "code",
      "execution_count": null,
      "metadata": {
        "id": "uJrDPFE11ANE"
      },
      "outputs": [],
      "source": [
        "label = 'reordered'\n",
        "x_cols = df.columns.drop('reordered')"
      ]
    },
    {
      "cell_type": "code",
      "execution_count": null,
      "metadata": {
        "id": "zI3MiR1S1ANF"
      },
      "outputs": [],
      "source": [
        "X = df[x_cols]\n",
        "y = df[label]"
      ]
    },
    {
      "cell_type": "code",
      "execution_count": null,
      "metadata": {
        "colab": {
          "base_uri": "https://localhost:8080/"
        },
        "id": "K_7uvBi01ANG",
        "outputId": "bb6e3af1-ae37-42d0-aead-76480ba5cd41"
      },
      "outputs": [
        {
          "output_type": "stream",
          "name": "stdout",
          "text": [
            "(6355995, 67) (6355995,)\n",
            "(2118666, 67) (2118666,)\n"
          ]
        }
      ],
      "source": [
        "X_train, X_test, y_train, y_test = train_test_split(X, y, stratify = y, test_size = 0.25)\n",
        "\n",
        "print(X_train.shape, y_train.shape)\n",
        "print(X_test.shape, y_test.shape)"
      ]
    },
    {
      "cell_type": "code",
      "execution_count": null,
      "metadata": {
        "colab": {
          "base_uri": "https://localhost:8080/"
        },
        "id": "X6vb5rr81ANG",
        "outputId": "1bed37cb-cd53-4ea5-aac7-5618bf1c1c50"
      },
      "outputs": [
        {
          "output_type": "execute_result",
          "data": {
            "text/plain": [
              "0.0    5734377\n",
              "1.0     621618\n",
              "Name: reordered, dtype: int64"
            ]
          },
          "metadata": {},
          "execution_count": 14
        }
      ],
      "source": [
        "y_train.value_counts()"
      ]
    },
    {
      "cell_type": "code",
      "execution_count": null,
      "metadata": {
        "colab": {
          "base_uri": "https://localhost:8080/"
        },
        "id": "MgLAHbD41ANH",
        "outputId": "b5b2f980-3d28-4bf6-9234-14175c5450d8"
      },
      "outputs": [
        {
          "output_type": "execute_result",
          "data": {
            "text/plain": [
              "10.0"
            ]
          },
          "metadata": {},
          "execution_count": 15
        }
      ],
      "source": [
        "np.ceil(y_train.value_counts()[0]/y_train.value_counts()[1])"
      ]
    },
    {
      "cell_type": "code",
      "execution_count": null,
      "metadata": {
        "colab": {
          "base_uri": "https://localhost:8080/"
        },
        "id": "kCwYti6M1ANH",
        "outputId": "8270f4f3-bd2c-46e2-a912-86025fbbcc0f"
      },
      "outputs": [
        {
          "output_type": "execute_result",
          "data": {
            "text/plain": [
              "0.0    1911460\n",
              "1.0     207206\n",
              "Name: reordered, dtype: int64"
            ]
          },
          "metadata": {},
          "execution_count": 16
        }
      ],
      "source": [
        "y_test.value_counts()"
      ]
    },
    {
      "cell_type": "markdown",
      "metadata": {
        "id": "WGvfXV6O1ANH"
      },
      "source": [
        "### XGBoost Model"
      ]
    },
    {
      "cell_type": "code",
      "execution_count": null,
      "metadata": {
        "id": "uvOVwWxX1ANI"
      },
      "outputs": [],
      "source": [
        "D_train = xgb.DMatrix(X_train, label=y_train)\n",
        "D_test = xgb.DMatrix(X_test, label=y_test)"
      ]
    },
    {
      "cell_type": "code",
      "execution_count": null,
      "metadata": {
        "id": "XJCO1qwR1ANI"
      },
      "outputs": [],
      "source": [
        "xgb_params = {\n",
        "    \"objective\"        :\"reg:logistic\",\n",
        "    \"eval_metric\"      :\"logloss\",\n",
        "    \"tree_method\"      :\"exact\",\n",
        "    \"eta\"              :0.1,\n",
        "    \"max_depth\"        :6,\n",
        "    \"min_child_weight\" :10,\n",
        "    \"gamma\"            :0.70,\n",
        "    \"subsample\"        :0.76,\n",
        "    \"colsample_bytree\" :0.95,\n",
        "    \"alpha\"            :2e-05,\n",
        "    \"scale_pos_weight\" :10,\n",
        "    \"lambda\"           :10\n",
        "}"
      ]
    },
    {
      "cell_type": "code",
      "execution_count": null,
      "metadata": {
        "colab": {
          "base_uri": "https://localhost:8080/"
        },
        "id": "CvwxsLbh1ANI",
        "outputId": "e7ce2621-67e1-4af4-9e75-f926e7f54475"
      },
      "outputs": [
        {
          "output_type": "stream",
          "name": "stdout",
          "text": [
            "[0]\ttrain-logloss:0.665619\n",
            "[10]\ttrain-logloss:0.553871\n",
            "[20]\ttrain-logloss:0.533304\n",
            "[30]\ttrain-logloss:0.527607\n",
            "[40]\ttrain-logloss:0.524945\n",
            "[50]\ttrain-logloss:0.523517\n",
            "[60]\ttrain-logloss:0.52267\n",
            "[70]\ttrain-logloss:0.521913\n",
            "[79]\ttrain-logloss:0.521178\n"
          ]
        }
      ],
      "source": [
        "watchlist= [(D_train, \"train\")]\n",
        "model = xgb.train(params=xgb_params, dtrain=D_train, num_boost_round = 80, evals = watchlist, verbose_eval = 10)"
      ]
    },
    {
      "cell_type": "code",
      "execution_count": null,
      "metadata": {
        "id": "uk4PHscd1ANJ"
      },
      "outputs": [],
      "source": [
        "probability = model.predict(D_test)"
      ]
    },
    {
      "cell_type": "code",
      "execution_count": null,
      "metadata": {
        "id": "dEZbUEAN1ANJ"
      },
      "outputs": [],
      "source": [
        "predictions = [1 if i > 0.5 else 0 for i in probability]"
      ]
    },
    {
      "cell_type": "code",
      "execution_count": null,
      "metadata": {
        "colab": {
          "base_uri": "https://localhost:8080/",
          "height": 646
        },
        "id": "_cZq5FyE1ANK",
        "outputId": "ee815acb-b4d8-4825-f4e4-05ef38c79aef"
      },
      "outputs": [
        {
          "output_type": "stream",
          "name": "stdout",
          "text": [
            "\n",
            " Classification report : \n",
            "               precision    recall  f1-score   support\n",
            "\n",
            "         0.0       0.97      0.74      0.84   1911460\n",
            "         1.0       0.24      0.77      0.37    207206\n",
            "\n",
            "    accuracy                           0.74   2118666\n",
            "   macro avg       0.60      0.75      0.60   2118666\n",
            "weighted avg       0.90      0.74      0.79   2118666\n",
            "\n",
            "Accuracy   Score :  0.7423038836701963\n",
            "F1 Score:  0.36842714097984414\n",
            "Area under curve :  0.8342153530139002 \n",
            "\n"
          ]
        },
        {
          "output_type": "display_data",
          "data": {
            "text/plain": [
              "<Figure size 864x864 with 3 Axes>"
            ],
            "image/png": "[encoded data removed]"
          },
          "metadata": {
            "needs_background": "light"
          }
        }
      ],
      "source": [
        "print (\"\\n Classification report : \\n\",classification_report(y_test, predictions))\n",
        "print (\"Accuracy   Score : \",accuracy_score(y_test, predictions))\n",
        "\n",
        "#confusion matrix\n",
        "conf_matrix = confusion_matrix(y_test,predictions)\n",
        "plt.figure(figsize=(12,12))\n",
        "plt.subplot(221)\n",
        "sns.heatmap(conf_matrix, fmt = \"d\",annot=True, cmap='Blues')\n",
        "b, t = plt.ylim()\n",
        "plt.ylim(b + 0.5, t - 0.5)\n",
        "plt.title('Confuion Matrix')\n",
        "plt.ylabel('True Values')\n",
        "plt.xlabel('Predicted Values')\n",
        "\n",
        "#f1-score\n",
        "f1 = f1_score(y_test, predictions)\n",
        "print(\"F1 Score: \", f1)\n",
        "\n",
        "#roc_auc_score\n",
        "model_roc_auc = roc_auc_score(y_test,probability) \n",
        "print (\"Area under curve : \",model_roc_auc,\"\\n\")\n",
        "fpr,tpr,thresholds = roc_curve(y_test,probability)\n",
        "gmeans = np.sqrt(tpr * (1-fpr))\n",
        "ix = np.argmax(gmeans)\n",
        "threshold = np.round(thresholds[ix],3)\n",
        "\n",
        "plt.subplot(222)\n",
        "plt.plot(fpr, tpr, color='darkorange', lw=1, label = \"Auc : %.3f\" %model_roc_auc)\n",
        "plt.plot([0, 1], [0, 1], color='navy', lw=2, linestyle='--')\n",
        "plt.scatter(fpr[ix], tpr[ix], marker='o', color='black', label='Best Threshold:' + str(threshold))\n",
        "plt.xlim([0.0, 1.0])\n",
        "plt.ylim([0.0, 1.05])\n",
        "plt.xlabel('False Positive Rate')\n",
        "plt.ylabel('True Positive Rate')\n",
        "plt.title('Receiver operating characteristic')\n",
        "plt.legend(loc=\"lower right\")\n",
        "\n",
        "plt.show()"
      ]
    },
    {
      "cell_type": "code",
      "execution_count": null,
      "metadata": {
        "scrolled": false,
        "colab": {
          "base_uri": "https://localhost:8080/",
          "height": 893
        },
        "id": "nXhPr0lL1ANK",
        "outputId": "e211f99a-cb87-499b-9b6c-a2a1c3df129d"
      },
      "outputs": [
        {
          "output_type": "display_data",
          "data": {
            "text/plain": [
              "<Figure size 720x1080 with 1 Axes>"
            ],
            "image/png": "[encoded data removed]"
          },
          "metadata": {
            "needs_background": "light"
          }
        }
      ],
      "source": [
        "fig, ax = plt.subplots(figsize = (10,15))\n",
        "xgb.plot_importance(model, ax = ax)\n",
        "fig.savefig('XGBoost Feature Importance Plot.png')"
      ]
    },
    {
      "cell_type": "code",
      "source": [
        "submission = df[['order_id', 'products']]  ## 데이터프래임 생성\n",
        "submission.reset_index(inplace=True)\n",
        "submission = submission.sort_values(by ='order_id')\n",
        "submission = submission.fillna('None')\n",
        "submission.to_csv('submission.csv',index=False)"
      ],
      "metadata": {
        "colab": {
          "base_uri": "https://localhost:8080/",
          "height": 396
        },
        "id": "Ut3r8k0EZu-5",
        "outputId": "54c5c0b8-078e-45d0-9433-e4ef764e77b6"
      },
      "execution_count": null,
      "outputs": [
        {
          "output_type": "error",
          "ename": "KeyError",
          "evalue": "ignored",
          "traceback": [
            "\u001b[0;31m---------------------------------------------------------------------------\u001b[0m",
            "\u001b[0;31mKeyError\u001b[0m                                  Traceback (most recent call last)",
            "\u001b[0;32m<ipython-input-23-c3642c54d813>\u001b[0m in \u001b[0;36m<module>\u001b[0;34m()\u001b[0m\n\u001b[0;32m----> 1\u001b[0;31m \u001b[0msubmission\u001b[0m \u001b[0;34m=\u001b[0m \u001b[0mdf\u001b[0m\u001b[0;34m[\u001b[0m\u001b[0;34m[\u001b[0m\u001b[0;34m'order_id'\u001b[0m\u001b[0;34m,\u001b[0m \u001b[0;34m'products'\u001b[0m\u001b[0;34m]\u001b[0m\u001b[0;34m]\u001b[0m  \u001b[0;31m## 데이터프래임 생성\u001b[0m\u001b[0;34m\u001b[0m\u001b[0;34m\u001b[0m\u001b[0m\n\u001b[0m\u001b[1;32m      2\u001b[0m \u001b[0msubmission\u001b[0m\u001b[0;34m.\u001b[0m\u001b[0mreset_index\u001b[0m\u001b[0;34m(\u001b[0m\u001b[0minplace\u001b[0m\u001b[0;34m=\u001b[0m\u001b[0;32mTrue\u001b[0m\u001b[0;34m)\u001b[0m\u001b[0;34m\u001b[0m\u001b[0;34m\u001b[0m\u001b[0m\n\u001b[1;32m      3\u001b[0m \u001b[0msubmission\u001b[0m \u001b[0;34m=\u001b[0m \u001b[0msubmission\u001b[0m\u001b[0;34m.\u001b[0m\u001b[0msort_values\u001b[0m\u001b[0;34m(\u001b[0m\u001b[0mby\u001b[0m \u001b[0;34m=\u001b[0m\u001b[0;34m'order_id'\u001b[0m\u001b[0;34m)\u001b[0m\u001b[0;34m\u001b[0m\u001b[0;34m\u001b[0m\u001b[0m\n\u001b[1;32m      4\u001b[0m \u001b[0msubmission\u001b[0m \u001b[0;34m=\u001b[0m \u001b[0msubmission\u001b[0m\u001b[0;34m.\u001b[0m\u001b[0mfillna\u001b[0m\u001b[0;34m(\u001b[0m\u001b[0;34m'None'\u001b[0m\u001b[0;34m)\u001b[0m\u001b[0;34m\u001b[0m\u001b[0;34m\u001b[0m\u001b[0m\n\u001b[1;32m      5\u001b[0m \u001b[0msubmission\u001b[0m\u001b[0;34m.\u001b[0m\u001b[0mto_csv\u001b[0m\u001b[0;34m(\u001b[0m\u001b[0;34m'submission.csv'\u001b[0m\u001b[0;34m,\u001b[0m\u001b[0mindex\u001b[0m\u001b[0;34m=\u001b[0m\u001b[0;32mFalse\u001b[0m\u001b[0;34m)\u001b[0m\u001b[0;34m\u001b[0m\u001b[0;34m\u001b[0m\u001b[0m\n",
            "\u001b[0;32m/usr/local/lib/python3.7/dist-packages/pandas/core/frame.py\u001b[0m in \u001b[0;36m__getitem__\u001b[0;34m(self, key)\u001b[0m\n\u001b[1;32m   3462\u001b[0m             \u001b[0;32mif\u001b[0m \u001b[0mis_iterator\u001b[0m\u001b[0;34m(\u001b[0m\u001b[0mkey\u001b[0m\u001b[0;34m)\u001b[0m\u001b[0;34m:\u001b[0m\u001b[0;34m\u001b[0m\u001b[0;34m\u001b[0m\u001b[0m\n\u001b[1;32m   3463\u001b[0m                 \u001b[0mkey\u001b[0m \u001b[0;34m=\u001b[0m \u001b[0mlist\u001b[0m\u001b[0;34m(\u001b[0m\u001b[0mkey\u001b[0m\u001b[0;34m)\u001b[0m\u001b[0;34m\u001b[0m\u001b[0;34m\u001b[0m\u001b[0m\n\u001b[0;32m-> 3464\u001b[0;31m             \u001b[0mindexer\u001b[0m \u001b[0;34m=\u001b[0m \u001b[0mself\u001b[0m\u001b[0;34m.\u001b[0m\u001b[0mloc\u001b[0m\u001b[0;34m.\u001b[0m\u001b[0m_get_listlike_indexer\u001b[0m\u001b[0;34m(\u001b[0m\u001b[0mkey\u001b[0m\u001b[0;34m,\u001b[0m \u001b[0maxis\u001b[0m\u001b[0;34m=\u001b[0m\u001b[0;36m1\u001b[0m\u001b[0;34m)\u001b[0m\u001b[0;34m[\u001b[0m\u001b[0;36m1\u001b[0m\u001b[0;34m]\u001b[0m\u001b[0;34m\u001b[0m\u001b[0;34m\u001b[0m\u001b[0m\n\u001b[0m\u001b[1;32m   3465\u001b[0m \u001b[0;34m\u001b[0m\u001b[0m\n\u001b[1;32m   3466\u001b[0m         \u001b[0;31m# take() does not accept boolean indexers\u001b[0m\u001b[0;34m\u001b[0m\u001b[0;34m\u001b[0m\u001b[0;34m\u001b[0m\u001b[0m\n",
            "\u001b[0;32m/usr/local/lib/python3.7/dist-packages/pandas/core/indexing.py\u001b[0m in \u001b[0;36m_get_listlike_indexer\u001b[0;34m(self, key, axis)\u001b[0m\n\u001b[1;32m   1312\u001b[0m             \u001b[0mkeyarr\u001b[0m\u001b[0;34m,\u001b[0m \u001b[0mindexer\u001b[0m\u001b[0;34m,\u001b[0m \u001b[0mnew_indexer\u001b[0m \u001b[0;34m=\u001b[0m \u001b[0max\u001b[0m\u001b[0;34m.\u001b[0m\u001b[0m_reindex_non_unique\u001b[0m\u001b[0;34m(\u001b[0m\u001b[0mkeyarr\u001b[0m\u001b[0;34m)\u001b[0m\u001b[0;34m\u001b[0m\u001b[0;34m\u001b[0m\u001b[0m\n\u001b[1;32m   1313\u001b[0m \u001b[0;34m\u001b[0m\u001b[0m\n\u001b[0;32m-> 1314\u001b[0;31m         \u001b[0mself\u001b[0m\u001b[0;34m.\u001b[0m\u001b[0m_validate_read_indexer\u001b[0m\u001b[0;34m(\u001b[0m\u001b[0mkeyarr\u001b[0m\u001b[0;34m,\u001b[0m \u001b[0mindexer\u001b[0m\u001b[0;34m,\u001b[0m \u001b[0maxis\u001b[0m\u001b[0;34m)\u001b[0m\u001b[0;34m\u001b[0m\u001b[0;34m\u001b[0m\u001b[0m\n\u001b[0m\u001b[1;32m   1315\u001b[0m \u001b[0;34m\u001b[0m\u001b[0m\n\u001b[1;32m   1316\u001b[0m         if needs_i8_conversion(ax.dtype) or isinstance(\n",
            "\u001b[0;32m/usr/local/lib/python3.7/dist-packages/pandas/core/indexing.py\u001b[0m in \u001b[0;36m_validate_read_indexer\u001b[0;34m(self, key, indexer, axis)\u001b[0m\n\u001b[1;32m   1372\u001b[0m                 \u001b[0;32mif\u001b[0m \u001b[0muse_interval_msg\u001b[0m\u001b[0;34m:\u001b[0m\u001b[0;34m\u001b[0m\u001b[0;34m\u001b[0m\u001b[0m\n\u001b[1;32m   1373\u001b[0m                     \u001b[0mkey\u001b[0m \u001b[0;34m=\u001b[0m \u001b[0mlist\u001b[0m\u001b[0;34m(\u001b[0m\u001b[0mkey\u001b[0m\u001b[0;34m)\u001b[0m\u001b[0;34m\u001b[0m\u001b[0;34m\u001b[0m\u001b[0m\n\u001b[0;32m-> 1374\u001b[0;31m                 \u001b[0;32mraise\u001b[0m \u001b[0mKeyError\u001b[0m\u001b[0;34m(\u001b[0m\u001b[0;34mf\"None of [{key}] are in the [{axis_name}]\"\u001b[0m\u001b[0;34m)\u001b[0m\u001b[0;34m\u001b[0m\u001b[0;34m\u001b[0m\u001b[0m\n\u001b[0m\u001b[1;32m   1375\u001b[0m \u001b[0;34m\u001b[0m\u001b[0m\n\u001b[1;32m   1376\u001b[0m             \u001b[0mnot_found\u001b[0m \u001b[0;34m=\u001b[0m \u001b[0mlist\u001b[0m\u001b[0;34m(\u001b[0m\u001b[0mensure_index\u001b[0m\u001b[0;34m(\u001b[0m\u001b[0mkey\u001b[0m\u001b[0;34m)\u001b[0m\u001b[0;34m[\u001b[0m\u001b[0mmissing_mask\u001b[0m\u001b[0;34m.\u001b[0m\u001b[0mnonzero\u001b[0m\u001b[0;34m(\u001b[0m\u001b[0;34m)\u001b[0m\u001b[0;34m[\u001b[0m\u001b[0;36m0\u001b[0m\u001b[0;34m]\u001b[0m\u001b[0;34m]\u001b[0m\u001b[0;34m.\u001b[0m\u001b[0munique\u001b[0m\u001b[0;34m(\u001b[0m\u001b[0;34m)\u001b[0m\u001b[0;34m)\u001b[0m\u001b[0;34m\u001b[0m\u001b[0;34m\u001b[0m\u001b[0m\n",
            "\u001b[0;31mKeyError\u001b[0m: \"None of [Index(['order_id', 'products'], dtype='object')] are in the [columns]\""
          ]
        }
      ]
    },
    {
      "cell_type": "code",
      "execution_count": null,
      "metadata": {
        "id": "MBsBdWW71ANL"
      },
      "outputs": [],
      "source": [
        ""
      ]
    }
  ],
  "metadata": {
    "kernelspec": {
      "display_name": "Python 3",
      "language": "python",
      "name": "python3"
    },
    "language_info": {
      "codemirror_mode": {
        "name": "ipython",
        "version": 3
      },
      "file_extension": ".py",
      "mimetype": "text/x-python",
      "name": "python",
      "nbconvert_exporter": "python",
      "pygments_lexer": "ipython3",
      "version": "3.7.3"
    },
    "colab": {
      "name": "XGBoost Model.ipynb",
      "provenance": [],
      "machine_shape": "hm"
    },
    "accelerator": "TPU"
  },
  "nbformat": 4,
  "nbformat_minor": 0
}